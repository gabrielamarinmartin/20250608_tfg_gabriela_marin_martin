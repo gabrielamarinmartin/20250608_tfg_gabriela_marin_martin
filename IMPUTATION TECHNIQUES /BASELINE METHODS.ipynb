{
 "cells": [
  {
   "cell_type": "markdown",
   "id": "a9cbcaf2",
   "metadata": {},
   "source": [
    "# BASELINE IMPUTATION OF MISSING VALUES\n",
    "\n",
    "## Description of this notebook\n",
    "\n",
    "This notebook imputes the missing data using univariate and multivariate techniques."
   ]
  },
  {
   "cell_type": "code",
   "execution_count": 35,
   "id": "8c9c0536",
   "metadata": {},
   "outputs": [],
   "source": [
    "# Import all the necessary libraries\n",
    "\n",
    "import pandas as pd\n",
    "import numpy as np\n",
    "import os\n",
    "from sklearn.impute import SimpleImputer\n",
    "from sklearn.impute import KNNImputer\n",
    "from sklearn.experimental import enable_iterative_imputer\n",
    "from sklearn.impute import IterativeImputer\n",
    "from sklearn.linear_model import LinearRegression\n",
    "from sklearn.metrics import r2_score\n",
    "import miceforest as mf\n",
    "import warnings\n",
    "warnings.filterwarnings(\"ignore\")\n"
   ]
  },
  {
   "cell_type": "code",
   "execution_count": 36,
   "id": "42ebe878",
   "metadata": {},
   "outputs": [],
   "source": [
    "os.chdir('..') # move to the general directory"
   ]
  },
  {
   "cell_type": "code",
   "execution_count": 39,
   "id": "e97d68a4",
   "metadata": {},
   "outputs": [],
   "source": [
    "# Load the incomplete dataset\n",
    "data_incomplete = pd.read_csv('TFG_GABRIELA_MARIN/DATA/data.csv')\n",
    "\n",
    "# Load the complete observed data to evaluate the performance\n",
    "data_observed = pd.read_csv('TFG_GABRIELA_MARIN/DATA/input_DATA_NO_NAs_INPUT.csv')"
   ]
  },
  {
   "cell_type": "code",
   "execution_count": 41,
   "id": "f6860b94",
   "metadata": {},
   "outputs": [],
   "source": [
    "# Function to evaluate the performance of the imputations\n",
    "\n",
    "def baseline_imputation_performance(data_complete, imputer, method_name, n_iter=10):\n",
    "\n",
    "    r2_scores = []\n",
    "\n",
    "    for i in range(n_iter):\n",
    "        # 1. Copy the invomplete data and mask some values to evaluate the performance\n",
    "        data_incomplete_copy = data_complete.copy()\n",
    "\n",
    "        # 2. Get indices of the non-missing values\n",
    "        mask = data_incomplete_copy.notnull()\n",
    "\n",
    "        # 3. Randomly mask 20% of the known values\n",
    "        mask_idx = np.random.choice(np.where(mask.values.flatten())[0], size=int(0.2 * mask.values.sum()), replace=False)\n",
    "\n",
    "        # Obtain the data values that will be masked\n",
    "        data_masked = data_incomplete_copy.values.copy().flatten()\n",
    "\n",
    "        # Save the corresponding original values\n",
    "        original_values = data_masked[mask_idx].copy()\n",
    "\n",
    "        # Mask the chosen values\n",
    "        data_masked[mask_idx] = np.nan\n",
    "\n",
    "        # Make sure the data masked is a 2D array\n",
    "        data_masked = data_masked.reshape(data_incomplete_copy.shape)\n",
    "        data_masked = pd.DataFrame(data_masked, columns=data_incomplete_copy.columns, index=data_incomplete_copy.index)\n",
    "\n",
    "\n",
    "        # 4. Impute the masked data\n",
    "        imputed_array = imputer.fit_transform(data_masked)\n",
    "        imputed_array = np.array(imputed_array)\n",
    "        if isinstance(imputed_array, pd.DataFrame):\n",
    "            imputed_flat = imputed_array.values.flatten()\n",
    "        else:\n",
    "            imputed_flat = imputed_array.flatten()\n",
    "        imputed_values = imputed_flat[mask_idx]\n",
    "\n",
    "        # Compute the r-squared score\n",
    "        score = r2_score(original_values, imputed_values)\n",
    "        r2_scores.append(score)\n",
    "\n",
    "    # Print the results\n",
    "    avg_r2 = np.mean(r2_scores)\n",
    "    print(f\"Average R² Score over {n_iter} iterations ({method_name}): {avg_r2:.4f}\")\n",
    "    return avg_r2"
   ]
  },
  {
   "cell_type": "code",
   "execution_count": 46,
   "id": "13ef9556",
   "metadata": {},
   "outputs": [],
   "source": [
    "def baseline_imputation_groups(data_complete, imputer, groups, group_names, n_runs=10):\n",
    "    \n",
    "    # Initialize dicts of lists to collect scores per group\n",
    "    group_r2_scores = {name: [] for name in group_names}\n",
    "    \n",
    "    for group, name in zip(groups, group_names):\n",
    "        for _ in range(n_runs):\n",
    "            data_original = data_complete[group].copy()\n",
    "            data_missing = data_original.copy()\n",
    "\n",
    "            total_values = data_missing.size\n",
    "            missing_count = int(total_values * 0.2)\n",
    "            missing_indices = np.random.choice(total_values, size=missing_count, replace=False)\n",
    "            row_indices, col_indices = np.unravel_index(missing_indices, data_missing.shape)\n",
    "            data_missing.values[row_indices, col_indices] = np.nan\n",
    "\n",
    "            imputed_array = imputer.fit_transform(data_missing)\n",
    "            data_imputed = pd.DataFrame(imputed_array, columns=data_original.columns)\n",
    "\n",
    "            mask = np.zeros_like(data_missing.values, dtype=bool)\n",
    "            mask[row_indices, col_indices] = True\n",
    "\n",
    "            true_values = data_original.values[mask]\n",
    "            imputed_values = data_imputed.values[mask]\n",
    "\n",
    "            r2 = r2_score(true_values, imputed_values)\n",
    "            \n",
    "            group_r2_scores[name].append(r2)\n",
    "            \n",
    "    for name in group_names:\n",
    "        print(f\"Overall R2 {name}: {np.mean(group_r2_scores[name]):.4f}\")\n",
    "        print('---------------------------------------------')\n"
   ]
  },
  {
   "cell_type": "markdown",
   "id": "b61f691d",
   "metadata": {},
   "source": [
    "## 1. Univariate Imputation"
   ]
  },
  {
   "cell_type": "markdown",
   "id": "87bd5c72",
   "metadata": {},
   "source": [
    "### 1.1 Mean Imputation"
   ]
  },
  {
   "cell_type": "code",
   "execution_count": 5,
   "id": "6b7bfbba",
   "metadata": {},
   "outputs": [],
   "source": [
    "mean_imputer = SimpleImputer(strategy=\"mean\")\n",
    "\n",
    "mean_imputed_data = mean_imputer.fit_transform(data_incomplete)\n",
    "\n",
    "mean_imputed_df = pd.DataFrame(mean_imputed_data, columns=data_incomplete.columns)"
   ]
  },
  {
   "cell_type": "code",
   "execution_count": 6,
   "id": "b1c0632b",
   "metadata": {},
   "outputs": [],
   "source": [
    "mean_imputed_df.to_csv('BASELINE IMPUTED DATASETS/mean_imputed_df.csv', index=False)"
   ]
  },
  {
   "cell_type": "markdown",
   "id": "ef278edd",
   "metadata": {},
   "source": [
    "### 1.2 Median Imputation"
   ]
  },
  {
   "cell_type": "code",
   "execution_count": 7,
   "id": "a26e9126",
   "metadata": {},
   "outputs": [],
   "source": [
    "median_imputer = SimpleImputer(strategy=\"median\")\n",
    "\n",
    "median_imputed_data = median_imputer.fit_transform(data_incomplete)\n",
    "\n",
    "median_imputed_df = pd.DataFrame(median_imputed_data, columns=data_incomplete.columns)"
   ]
  },
  {
   "cell_type": "code",
   "execution_count": 8,
   "id": "aa3e1979",
   "metadata": {},
   "outputs": [],
   "source": [
    "median_imputed_df.to_csv('BASELINE IMPUTED DATASETS/median_imputed_df.csv', index=False)"
   ]
  },
  {
   "cell_type": "markdown",
   "id": "c6db4133",
   "metadata": {},
   "source": [
    "### 1.3 Mode Imputation"
   ]
  },
  {
   "cell_type": "code",
   "execution_count": 9,
   "id": "4232f626",
   "metadata": {},
   "outputs": [],
   "source": [
    "mode_imputer = SimpleImputer(strategy=\"most_frequent\")\n",
    "\n",
    "mode_imputed_data = mode_imputer.fit_transform(data_incomplete)\n",
    "\n",
    "mode_imputed_df = pd.DataFrame(mode_imputed_data, columns=data_incomplete.columns)"
   ]
  },
  {
   "cell_type": "code",
   "execution_count": 10,
   "id": "e55a4be9",
   "metadata": {},
   "outputs": [],
   "source": [
    "mode_imputed_df.to_csv('BASELINE IMPUTED DATASETS/mode_imputed_df.csv', index=False)"
   ]
  },
  {
   "cell_type": "markdown",
   "id": "fe5baeef",
   "metadata": {},
   "source": [
    "## 2. Multivariate Imputation"
   ]
  },
  {
   "cell_type": "markdown",
   "id": "615c87d0",
   "metadata": {},
   "source": [
    "### 2.1 KNN Imputation"
   ]
  },
  {
   "cell_type": "markdown",
   "id": "1ddd052b",
   "metadata": {},
   "source": [
    "#### **Step 1:** Decide which is the best number of nearest neighbors\n",
    "\n",
    "For a tradeoff between simplicity of the model and good performance, the number of nearest neighbors chosen to perform the imputation is 3. "
   ]
  },
  {
   "cell_type": "code",
   "execution_count": 13,
   "id": "59983933",
   "metadata": {},
   "outputs": [
    {
     "name": "stdout",
     "output_type": "stream",
     "text": [
      "n_neighbors=2 → R²: 0.9817\n",
      "n_neighbors=3 → R²: 0.9836\n",
      "n_neighbors=4 → R²: 0.9845\n",
      "n_neighbors=5 → R²: 0.9853\n",
      "n_neighbors=6 → R²: 0.9860\n",
      "n_neighbors=7 → R²: 0.9865\n",
      "n_neighbors=8 → R²: 0.9865\n",
      "n_neighbors=9 → R²: 0.9865\n",
      "n_neighbors=10 → R²: 0.9867\n",
      "\n",
      "Best n_neighbors based on R²: 10\n"
     ]
    }
   ],
   "source": [
    "# 1. Copy the invomplete data and mask some values to evaluate the performance\n",
    "data_incomplete_copy = data_incomplete.copy()\n",
    "\n",
    "# 2. Get indices of the non-missing values\n",
    "mask = data_incomplete_copy.notnull()\n",
    "\n",
    "# 3. Randomly mask 20% of the known values\n",
    "mask_idx = np.random.choice(np.where(mask.values.flatten())[0], size=int(0.2 * mask.values.sum()), replace=False)\n",
    "\n",
    "# Obtain the data values that will be masked\n",
    "data_masked = data_incomplete_copy.values.copy().flatten()\n",
    "\n",
    "# Save the corresponding original values\n",
    "original_values = data_masked[mask_idx].copy()\n",
    "\n",
    "# Mask the chosen values\n",
    "data_masked[mask_idx] = np.nan\n",
    "\n",
    "# Make sure the data masked is a 2D array\n",
    "data_masked = data_masked.reshape(data_incomplete_copy.shape)\n",
    "data_masked = pd.DataFrame(data_masked, columns=data_incomplete_copy.columns)\n",
    "\n",
    "# 4. Try different numbers for the neighbors and evaluate the performance using r-squared\n",
    "r2_scores_neighbors = {}\n",
    "\n",
    "for k in range(2, 11):\n",
    "    imputer = KNNImputer(n_neighbors=k)\n",
    "    imputed = imputer.fit_transform(data_masked)\n",
    "\n",
    "    # Compare the imputed values against the original values\n",
    "    imputed_flat = imputed.flatten()\n",
    "    imputed_values = imputed_flat[mask_idx]\n",
    "\n",
    "    # Compute the r-squared score\n",
    "    score = r2_score(original_values, imputed_values)\n",
    "    r2_scores_neighbors[k] = score\n",
    "    print(f\"n_neighbors={k} → R²: {score:.4f}\")\n",
    "\n",
    "# Step 3: Select best k\n",
    "best_k = max(r2_scores_neighbors, key=r2_scores_neighbors.get)\n",
    "print(f\"\\nBest n_neighbors based on R²: {best_k}\")\n"
   ]
  },
  {
   "cell_type": "markdown",
   "id": "91479836",
   "metadata": {},
   "source": [
    "#### **Step 2:** Impute the missing values"
   ]
  },
  {
   "cell_type": "code",
   "execution_count": 14,
   "id": "f14323ab",
   "metadata": {},
   "outputs": [],
   "source": [
    "knn_imputer = KNNImputer(n_neighbors=3)  \n",
    "\n",
    "knn_imputed_data = knn_imputer.fit_transform(data_incomplete)\n",
    "\n",
    "knn_imputed_df = pd.DataFrame(knn_imputed_data, columns=data_incomplete.columns)"
   ]
  },
  {
   "cell_type": "code",
   "execution_count": 15,
   "id": "3e3df62d",
   "metadata": {},
   "outputs": [],
   "source": [
    "knn_imputed_df.to_csv('BASELINE IMPUTED DATASETS/knn_imputed_df.csv', index=False)"
   ]
  },
  {
   "cell_type": "markdown",
   "id": "26ab60fd",
   "metadata": {},
   "source": [
    "### 2.2 Iterative Imputation"
   ]
  },
  {
   "cell_type": "code",
   "execution_count": 16,
   "id": "7e77eac3",
   "metadata": {},
   "outputs": [],
   "source": [
    "iter_imputer = IterativeImputer(estimator=LinearRegression(), max_iter=50, random_state=42)\n",
    "\n",
    "iterative_imputer_data = iter_imputer.fit_transform(data_incomplete)\n",
    "\n",
    "iter_imputed_df = pd.DataFrame(iterative_imputer_data, columns=data_incomplete.columns)"
   ]
  },
  {
   "cell_type": "code",
   "execution_count": 17,
   "id": "40b91384",
   "metadata": {},
   "outputs": [],
   "source": [
    "iter_imputed_df.to_csv('BASELINE IMPUTED DATASETS/iter_imputed_df.csv', index=False)"
   ]
  },
  {
   "cell_type": "markdown",
   "id": "9da36f75",
   "metadata": {},
   "source": [
    "### 2.3 MICE Imputation"
   ]
  },
  {
   "cell_type": "code",
   "execution_count": null,
   "id": "f28fc665",
   "metadata": {},
   "outputs": [],
   "source": [
    "class MICE_Imputer:\n",
    "    def __init__(self, num_datasets=10, mice_iterations=5, random_state=42):\n",
    "        self.num_datasets = num_datasets\n",
    "        self.mice_iterations = mice_iterations\n",
    "        self.random_state = random_state\n",
    "\n",
    "    def fit_transform(self, X):\n",
    "        kernel = mf.ImputationKernel(\n",
    "            X,\n",
    "            num_datasets=self.num_datasets,\n",
    "            random_state=self.random_state\n",
    "        )\n",
    "        kernel.mice(self.mice_iterations)\n",
    "        \n",
    "        # Average the imputed datasets\n",
    "        imputed_dfs = [kernel.complete_data(dataset=i) for i in range(self.num_datasets)]\n",
    "        df = sum(imputed_dfs) / len(imputed_dfs)\n",
    "        return pd.DataFrame(df, columns=X.columns)\n"
   ]
  },
  {
   "cell_type": "code",
   "execution_count": 22,
   "id": "1edaa2c1",
   "metadata": {},
   "outputs": [],
   "source": [
    "mice_imputer = MICE_Imputer(num_datasets=10, mice_iterations=5)\n",
    "\n",
    "mice_imputed_df = mice_imputer.fit_transform(data_incomplete)"
   ]
  },
  {
   "cell_type": "code",
   "execution_count": 24,
   "id": "1d422880",
   "metadata": {},
   "outputs": [],
   "source": [
    "mice_imputed_df.to_csv('BASELINE IMPUTED DATASETS/mice_imputed_df.csv', index=False)"
   ]
  },
  {
   "cell_type": "markdown",
   "id": "7eb1fbe2",
   "metadata": {},
   "source": [
    "## 3. Evaluate Imputation Performance"
   ]
  },
  {
   "cell_type": "markdown",
   "id": "ac40cebf",
   "metadata": {},
   "source": [
    "#### Overall Imputation Performance"
   ]
  },
  {
   "cell_type": "code",
   "execution_count": 43,
   "id": "8c1904fe",
   "metadata": {},
   "outputs": [
    {
     "name": "stdout",
     "output_type": "stream",
     "text": [
      "Average R² Score over 10 iterations (Mean): 0.9884\n",
      "Average R² Score over 10 iterations (Median): 0.9886\n",
      "Average R² Score over 10 iterations (Mode): 0.9849\n",
      "Average R² Score over 10 iterations (KNN): 0.9899\n",
      "Average R² Score over 10 iterations (Iterative): 0.9967\n",
      "Average R² Score over 10 iterations (MICE): 0.9970\n"
     ]
    }
   ],
   "source": [
    "methods = ['Mean', 'Median', 'Mode', 'KNN', 'Iterative', 'MICE']\n",
    "imputers = [mean_imputer, median_imputer, mode_imputer, knn_imputer, iter_imputer, mice_imputer]\n",
    "\n",
    "for idx, imp in enumerate(imputers):\n",
    "    baseline_imputation_performance(data_observed, imp, methods[idx], n_iter=10)"
   ]
  },
  {
   "cell_type": "markdown",
   "id": "3782c14f",
   "metadata": {},
   "source": [
    "#### Per Subset of Features Imputation Performance"
   ]
  },
  {
   "cell_type": "code",
   "execution_count": 44,
   "id": "564ed115",
   "metadata": {},
   "outputs": [],
   "source": [
    "subject_details = ['AGE', 'PTGENDER', 'PTEDUCAT', 'APOE4']\n",
    "fdg_pet = ['AngularLeft', 'AngularRight', 'CingulumPostBilateral', 'TemporalLeft', 'TemporalRight']\n",
    "nepb = ['MMSE', 'RAVLT_learning', 'RAVLT_immediate', 'RAVLT_perc_forgetting', 'FAQ']\n",
    "av_45 = ['CEREBELLUMGREYMATTER_UCBERKELEYAV45_10_17_16', 'WHOLECEREBELLUM_UCBERKELEYAV45_10_17_16', 'ERODED_SUBCORTICALWM_UCBERKELEYAV45_10_17_16', 'FRONTAL_UCBERKELEYAV45_10_17_16', \n",
    "               'CINGULATE_UCBERKELEYAV45_10_17_16', 'PARIETAL_UCBERKELEYAV45_10_17_16', 'TEMPORAL_UCBERKELEYAV45_10_17_16']\n",
    "csf_values = ['ABETA_UPENNBIOMK9_04_19_17', 'TAU_UPENNBIOMK9_04_19_17', 'PTAU_UPENNBIOMK9_04_19_17']\n",
    "mri = ['Hippocampus', 'WholeBrain', 'Ventricles', 'Entorhinal', 'Fusiform', 'MidTemp', 'ICV']\n",
    "\n",
    "groups = [subject_details, fdg_pet, nepb, av_45, csf_values, mri]\n",
    "group_names = ['subject_details', 'fdg_pet', 'nepb', 'av_45', 'csf_values', 'mri']"
   ]
  },
  {
   "cell_type": "code",
   "execution_count": 49,
   "id": "bcf770e4",
   "metadata": {},
   "outputs": [
    {
     "name": "stdout",
     "output_type": "stream",
     "text": [
      "Mean\n",
      "Overall R2 subject_details: 0.9820\n",
      "---------------------------------------------\n",
      "Overall R2 fdg_pet: 0.6864\n",
      "---------------------------------------------\n",
      "Overall R2 nepb: 0.7280\n",
      "---------------------------------------------\n",
      "Overall R2 av_45: 0.9089\n",
      "---------------------------------------------\n",
      "Overall R2 csf_values: 0.6559\n",
      "---------------------------------------------\n",
      "Overall R2 mri: 0.9898\n",
      "---------------------------------------------\n",
      " \n",
      "Median\n",
      "Overall R2 subject_details: 0.9828\n",
      "---------------------------------------------\n",
      "Overall R2 fdg_pet: 0.6766\n",
      "---------------------------------------------\n",
      "Overall R2 nepb: 0.7001\n",
      "---------------------------------------------\n",
      "Overall R2 av_45: 0.9194\n",
      "---------------------------------------------\n",
      "Overall R2 csf_values: 0.6732\n",
      "---------------------------------------------\n",
      "Overall R2 mri: 0.9893\n",
      "---------------------------------------------\n",
      " \n",
      "Mode\n",
      "Overall R2 subject_details: 0.9817\n",
      "---------------------------------------------\n",
      "Overall R2 fdg_pet: 0.6850\n",
      "---------------------------------------------\n",
      "Overall R2 nepb: 0.7174\n",
      "---------------------------------------------\n",
      "Overall R2 av_45: 0.9142\n",
      "---------------------------------------------\n",
      "Overall R2 csf_values: 0.6576\n",
      "---------------------------------------------\n",
      "Overall R2 mri: 0.9895\n",
      "---------------------------------------------\n",
      " \n",
      "KNN\n",
      "Overall R2 subject_details: 0.9822\n",
      "---------------------------------------------\n",
      "Overall R2 fdg_pet: 0.6710\n",
      "---------------------------------------------\n",
      "Overall R2 nepb: 0.7065\n",
      "---------------------------------------------\n",
      "Overall R2 av_45: 0.9205\n",
      "---------------------------------------------\n",
      "Overall R2 csf_values: 0.6625\n",
      "---------------------------------------------\n",
      "Overall R2 mri: 0.9894\n",
      "---------------------------------------------\n",
      " \n",
      "Iterative\n",
      "Overall R2 subject_details: 0.9824\n",
      "---------------------------------------------\n",
      "Overall R2 fdg_pet: 0.6773\n",
      "---------------------------------------------\n",
      "Overall R2 nepb: 0.6928\n",
      "---------------------------------------------\n",
      "Overall R2 av_45: 0.9064\n",
      "---------------------------------------------\n",
      "Overall R2 csf_values: 0.6508\n",
      "---------------------------------------------\n",
      "Overall R2 mri: 0.9891\n",
      "---------------------------------------------\n",
      " \n",
      "MICE\n",
      "Overall R2 subject_details: 0.9822\n",
      "---------------------------------------------\n",
      "Overall R2 fdg_pet: 0.6759\n",
      "---------------------------------------------\n",
      "Overall R2 nepb: 0.7204\n",
      "---------------------------------------------\n",
      "Overall R2 av_45: 0.9150\n",
      "---------------------------------------------\n",
      "Overall R2 csf_values: 0.6654\n",
      "---------------------------------------------\n",
      "Overall R2 mri: 0.9895\n",
      "---------------------------------------------\n",
      " \n"
     ]
    }
   ],
   "source": [
    "for idx, imp in enumerate(imputers):\n",
    "    print(methods[idx])\n",
    "    baseline_imputation_groups(data_observed, imputer, groups, group_names, n_runs=10)\n",
    "    print(\" \")"
   ]
  },
  {
   "cell_type": "code",
   "execution_count": null,
   "id": "4f60ca11",
   "metadata": {},
   "outputs": [],
   "source": []
  }
 ],
 "metadata": {
  "kernelspec": {
   "display_name": "final_env",
   "language": "python",
   "name": "python3"
  },
  "language_info": {
   "codemirror_mode": {
    "name": "ipython",
    "version": 3
   },
   "file_extension": ".py",
   "mimetype": "text/x-python",
   "name": "python",
   "nbconvert_exporter": "python",
   "pygments_lexer": "ipython3",
   "version": "3.9.6"
  }
 },
 "nbformat": 4,
 "nbformat_minor": 5
}
